{
  "nbformat": 4,
  "nbformat_minor": 0,
  "metadata": {
    "kernelspec": {
      "display_name": "dsJupyter",
      "language": "python",
      "name": "dsjupytertemplate"
    },
    "language_info": {
      "codemirror_mode": {
        "name": "ipython",
        "version": 3
      },
      "file_extension": ".py",
      "mimetype": "text/x-python",
      "name": "python",
      "nbconvert_exporter": "python",
      "pygments_lexer": "ipython3",
      "version": "3.7.4"
    },
    "colab": {
      "name": "Exploratory Data Analysis Hands On.ipynb",
      "provenance": [],
      "collapsed_sections": []
    }
  },
  "cells": [
    {
      "cell_type": "code",
      "metadata": {
        "ExecuteTime": {
          "end_time": "2020-08-29T04:35:22.605758Z",
          "start_time": "2020-08-29T04:35:22.483778Z"
        },
        "id": "FCAHqFN_Wcnb"
      },
      "source": [
        "import numpy as np\n",
        "import pandas as pd\n",
        "import matplotlib.pyplot as plt\n",
        "import seaborn as sns"
      ],
      "execution_count": null,
      "outputs": []
    },
    {
      "cell_type": "code",
      "metadata": {
        "colab": {
          "base_uri": "https://localhost:8080/"
        },
        "id": "24xetzP08jup",
        "outputId": "fc765c55-d679-45cc-8227-9afcef80349c"
      },
      "source": [
        "from google.colab import drive\n",
        "drive.mount('/content/drive')"
      ],
      "execution_count": null,
      "outputs": [
        {
          "output_type": "stream",
          "name": "stdout",
          "text": [
            "Drive already mounted at /content/drive; to attempt to forcibly remount, call drive.mount(\"/content/drive\", force_remount=True).\n"
          ]
        }
      ]
    },
    {
      "cell_type": "markdown",
      "metadata": {
        "id": "Ahp0IZElWcnb"
      },
      "source": [
        "## Mengubah parameter default matplotlib\n",
        "Parameter default matplotlib dapat diubah dengan rcParams sebagai berikut\n"
      ]
    },
    {
      "cell_type": "code",
      "metadata": {
        "ExecuteTime": {
          "end_time": "2020-08-29T04:35:23.229059Z",
          "start_time": "2020-08-29T04:35:23.214079Z"
        },
        "id": "ULs8_FOiWcnb"
      },
      "source": [
        "from matplotlib import rcParams\n",
        "\n",
        "rcParams['figure.figsize'] = 12, 4\n",
        "rcParams['lines.linewidth'] = 3\n",
        "rcParams['xtick.labelsize'] = 'x-large'\n",
        "rcParams['ytick.labelsize'] = 'x-large'"
      ],
      "execution_count": null,
      "outputs": []
    },
    {
      "cell_type": "markdown",
      "metadata": {
        "id": "gFqDHXnkWcnb"
      },
      "source": [
        "## Load dataset"
      ]
    },
    {
      "cell_type": "markdown",
      "metadata": {
        "id": "Z3j9jQQYWcnb"
      },
      "source": [
        "Untuk hands-on kita akan melihat dataset sintetik prediksi kebotakan. Agar running time-nya tidak terlalu lama, kali ini kita ambil sampel 1000 baris data saja."
      ]
    },
    {
      "cell_type": "code",
      "metadata": {
        "ExecuteTime": {
          "end_time": "2020-08-29T04:35:24.161264Z",
          "start_time": "2020-08-29T04:35:23.966992Z"
        },
        "id": "enaTJCbmWcnb"
      },
      "source": [
        "# change file path if necessary\n",
        "df = pd.read_csv('/content/drive/MyDrive/Rakamin/ML preparation II/botak.csv').sample(1000, random_state=42)"
      ],
      "execution_count": null,
      "outputs": []
    },
    {
      "cell_type": "markdown",
      "metadata": {
        "id": "XGx3fpRKWcnb"
      },
      "source": [
        "## Descriptive Statistics\n",
        "### Memeriksa kolom-kolom dan nilai hilang dengan `df.info()`"
      ]
    },
    {
      "cell_type": "markdown",
      "metadata": {
        "id": "5i0I3cfZWcnb"
      },
      "source": [
        "Hal pertama yang biasanya dilakukan dalam EDA adalah mengecek tipe data setiap kolom dan jumlah nilai yang hilang. Hal ini bisa kita lakukan dengan menggunakan `df.info()`."
      ]
    },
    {
      "cell_type": "code",
      "metadata": {
        "ExecuteTime": {
          "end_time": "2020-08-29T04:35:25.695391Z",
          "start_time": "2020-08-29T04:35:25.649431Z"
        },
        "scrolled": true,
        "colab": {
          "base_uri": "https://localhost:8080/"
        },
        "id": "7RfJI0fnWcnb",
        "outputId": "a96b4ea4-15c5-4a2d-a35a-1e331b4f2e3a"
      },
      "source": [
        "df.info()"
      ],
      "execution_count": null,
      "outputs": [
        {
          "output_type": "stream",
          "name": "stdout",
          "text": [
            "<class 'pandas.core.frame.DataFrame'>\n",
            "Int64Index: 1000 entries, 1142 to 7212\n",
            "Data columns (total 13 columns):\n",
            " #   Column         Non-Null Count  Dtype  \n",
            "---  ------         --------------  -----  \n",
            " 0   umur           1000 non-null   float64\n",
            " 1   jenis_kelamin  1000 non-null   object \n",
            " 2   pekerjaan      986 non-null    object \n",
            " 3   provinsi       1000 non-null   object \n",
            " 4   gaji           1000 non-null   float64\n",
            " 5   is_menikah     1000 non-null   int64  \n",
            " 6   is_keturunan   997 non-null    float64\n",
            " 7   berat          1000 non-null   float64\n",
            " 8   tinggi         1000 non-null   float64\n",
            " 9   sampo          1000 non-null   object \n",
            " 10  is_merokok     1000 non-null   int64  \n",
            " 11  pendidikan     1000 non-null   object \n",
            " 12  botak_prob     1000 non-null   float64\n",
            "dtypes: float64(6), int64(2), object(5)\n",
            "memory usage: 109.4+ KB\n"
          ]
        }
      ]
    },
    {
      "cell_type": "markdown",
      "metadata": {
        "id": "c5yhcpExWcnc"
      },
      "source": [
        "Kita dapat melihat bahwa:\n",
        "* Dataframe memiliki total 1000 baris dan 13 kolom\n",
        "* Dataframe masih memiliki *null* values di kolom `pekerjaan`\n",
        "* Target klasifikasi sepertinya adalah kolom `botak_prob` dengan tipe data `float64`\n",
        "* Berarti sisanya adalah *feature*\n",
        "\n",
        "Dari informasi di atas, kita bisa pisahkan kolom kategorical dan numerical sebagai berikut:"
      ]
    },
    {
      "cell_type": "code",
      "metadata": {
        "ExecuteTime": {
          "end_time": "2020-08-29T00:32:04.700005Z",
          "start_time": "2020-08-29T00:32:04.696008Z"
        },
        "id": "UbKney-6Wcnc"
      },
      "source": [
        "cats = ['jenis_kelamin', 'pekerjaan', 'sampo', 'pendidikan', 'provinsi']\n",
        "nums = ['umur', 'gaji', 'is_menikah', 'is_keturunan', 'berat', 'tinggi', 'is_merokok', 'botak_prob']"
      ],
      "execution_count": null,
      "outputs": []
    },
    {
      "cell_type": "markdown",
      "metadata": {
        "id": "Q7lgvwtNWcnc"
      },
      "source": [
        "Tentu saja menyimpan nama kolom berdasarkan tipe *numeric* dan *categorical* seperti di atas tidak wajib, tapi ini lumayan akan memudahkan beberapa proses ke depannya."
      ]
    },
    {
      "cell_type": "markdown",
      "metadata": {
        "id": "6bOquij0Wcnc"
      },
      "source": [
        "### Sampling untuk memahami data dengan `df.sample()`"
      ]
    },
    {
      "cell_type": "markdown",
      "metadata": {
        "id": "duQ19hmcWcnc"
      },
      "source": [
        "Setelah mengetahui kolom apa saja yang ada di dalam dataset, kita lakukan sampling untuk memastikan apakah isi kolomnya sesuai ekspektasi. Biasakan lakukan ini beberapa kali karena seringkali apabila ada keanehan tidak akan keluar pada sampling pertama.\n",
        "\n",
        "Sampling dapat dilakukan dengan menggunakan `df.sample()`"
      ]
    },
    {
      "cell_type": "code",
      "metadata": {
        "ExecuteTime": {
          "end_time": "2020-08-29T04:36:13.934642Z",
          "start_time": "2020-08-29T04:36:13.906657Z"
        },
        "scrolled": true,
        "colab": {
          "base_uri": "https://localhost:8080/",
          "height": 504
        },
        "id": "T2c32UrTWcnc",
        "outputId": "c29c277a-aa20-4f0e-d5ba-f3493181d1f2"
      },
      "source": [
        "df.sample(10)"
      ],
      "execution_count": null,
      "outputs": [
        {
          "output_type": "execute_result",
          "data": {
            "text/html": [
              "<div>\n",
              "<style scoped>\n",
              "    .dataframe tbody tr th:only-of-type {\n",
              "        vertical-align: middle;\n",
              "    }\n",
              "\n",
              "    .dataframe tbody tr th {\n",
              "        vertical-align: top;\n",
              "    }\n",
              "\n",
              "    .dataframe thead th {\n",
              "        text-align: right;\n",
              "    }\n",
              "</style>\n",
              "<table border=\"1\" class=\"dataframe\">\n",
              "  <thead>\n",
              "    <tr style=\"text-align: right;\">\n",
              "      <th></th>\n",
              "      <th>umur</th>\n",
              "      <th>jenis_kelamin</th>\n",
              "      <th>pekerjaan</th>\n",
              "      <th>provinsi</th>\n",
              "      <th>gaji</th>\n",
              "      <th>is_menikah</th>\n",
              "      <th>is_keturunan</th>\n",
              "      <th>berat</th>\n",
              "      <th>tinggi</th>\n",
              "      <th>sampo</th>\n",
              "      <th>is_merokok</th>\n",
              "      <th>pendidikan</th>\n",
              "      <th>botak_prob</th>\n",
              "    </tr>\n",
              "  </thead>\n",
              "  <tbody>\n",
              "    <tr>\n",
              "      <th>3966</th>\n",
              "      <td>26.0</td>\n",
              "      <td>Laki-laki</td>\n",
              "      <td>Pegawai swasta</td>\n",
              "      <td>Mataram</td>\n",
              "      <td>1.241781e+07</td>\n",
              "      <td>0</td>\n",
              "      <td>0.0</td>\n",
              "      <td>61.482611</td>\n",
              "      <td>156.242512</td>\n",
              "      <td>Moonsilk</td>\n",
              "      <td>0</td>\n",
              "      <td>S1</td>\n",
              "      <td>0.265293</td>\n",
              "    </tr>\n",
              "    <tr>\n",
              "      <th>1729</th>\n",
              "      <td>23.0</td>\n",
              "      <td>Laki-laki</td>\n",
              "      <td>PNS</td>\n",
              "      <td>Ambon</td>\n",
              "      <td>9.310764e+06</td>\n",
              "      <td>0</td>\n",
              "      <td>1.0</td>\n",
              "      <td>49.139686</td>\n",
              "      <td>157.650059</td>\n",
              "      <td>Deadbuoy</td>\n",
              "      <td>0</td>\n",
              "      <td>SMA</td>\n",
              "      <td>0.633245</td>\n",
              "    </tr>\n",
              "    <tr>\n",
              "      <th>1894</th>\n",
              "      <td>42.0</td>\n",
              "      <td>Perempuan</td>\n",
              "      <td>NaN</td>\n",
              "      <td>Denpasar</td>\n",
              "      <td>1.029432e+07</td>\n",
              "      <td>0</td>\n",
              "      <td>0.0</td>\n",
              "      <td>50.530599</td>\n",
              "      <td>155.090471</td>\n",
              "      <td>Shoulder &amp; Head</td>\n",
              "      <td>0</td>\n",
              "      <td>S1</td>\n",
              "      <td>0.152196</td>\n",
              "    </tr>\n",
              "    <tr>\n",
              "      <th>509</th>\n",
              "      <td>42.0</td>\n",
              "      <td>Laki-laki</td>\n",
              "      <td>PNS</td>\n",
              "      <td>Palu</td>\n",
              "      <td>1.665598e+07</td>\n",
              "      <td>0</td>\n",
              "      <td>0.0</td>\n",
              "      <td>61.936910</td>\n",
              "      <td>155.729082</td>\n",
              "      <td>Merpati</td>\n",
              "      <td>0</td>\n",
              "      <td>S1</td>\n",
              "      <td>0.562444</td>\n",
              "    </tr>\n",
              "    <tr>\n",
              "      <th>4638</th>\n",
              "      <td>45.0</td>\n",
              "      <td>Laki-laki</td>\n",
              "      <td>Pegawai swasta</td>\n",
              "      <td>Palembang</td>\n",
              "      <td>1.811831e+07</td>\n",
              "      <td>0</td>\n",
              "      <td>0.0</td>\n",
              "      <td>77.794177</td>\n",
              "      <td>169.425952</td>\n",
              "      <td>Moonsilk</td>\n",
              "      <td>1</td>\n",
              "      <td>S1</td>\n",
              "      <td>0.397045</td>\n",
              "    </tr>\n",
              "    <tr>\n",
              "      <th>3662</th>\n",
              "      <td>20.0</td>\n",
              "      <td>Perempuan</td>\n",
              "      <td>Pegawai swasta</td>\n",
              "      <td>Sofifi</td>\n",
              "      <td>1.309418e+07</td>\n",
              "      <td>0</td>\n",
              "      <td>0.0</td>\n",
              "      <td>79.975900</td>\n",
              "      <td>164.576882</td>\n",
              "      <td>Merpati</td>\n",
              "      <td>1</td>\n",
              "      <td>S1</td>\n",
              "      <td>0.240579</td>\n",
              "    </tr>\n",
              "    <tr>\n",
              "      <th>2515</th>\n",
              "      <td>22.0</td>\n",
              "      <td>Laki-laki</td>\n",
              "      <td>PNS</td>\n",
              "      <td>Tanjungselor</td>\n",
              "      <td>8.272619e+06</td>\n",
              "      <td>0</td>\n",
              "      <td>0.0</td>\n",
              "      <td>43.572481</td>\n",
              "      <td>151.913601</td>\n",
              "      <td>Moonsilk</td>\n",
              "      <td>0</td>\n",
              "      <td>SMA</td>\n",
              "      <td>0.350886</td>\n",
              "    </tr>\n",
              "    <tr>\n",
              "      <th>4168</th>\n",
              "      <td>25.0</td>\n",
              "      <td>Laki-laki</td>\n",
              "      <td>Pegawai swasta</td>\n",
              "      <td>Jakarta</td>\n",
              "      <td>3.705080e+06</td>\n",
              "      <td>0</td>\n",
              "      <td>0.0</td>\n",
              "      <td>47.456032</td>\n",
              "      <td>147.487180</td>\n",
              "      <td>Shoulder &amp; Head</td>\n",
              "      <td>0</td>\n",
              "      <td>SMA</td>\n",
              "      <td>0.187921</td>\n",
              "    </tr>\n",
              "    <tr>\n",
              "      <th>435</th>\n",
              "      <td>46.0</td>\n",
              "      <td>Perempuan</td>\n",
              "      <td>Pegawai swasta</td>\n",
              "      <td>Semarang</td>\n",
              "      <td>1.133097e+07</td>\n",
              "      <td>0</td>\n",
              "      <td>0.0</td>\n",
              "      <td>54.427109</td>\n",
              "      <td>155.560728</td>\n",
              "      <td>Merpati</td>\n",
              "      <td>0</td>\n",
              "      <td>SMP</td>\n",
              "      <td>0.286574</td>\n",
              "    </tr>\n",
              "    <tr>\n",
              "      <th>4490</th>\n",
              "      <td>44.0</td>\n",
              "      <td>Perempuan</td>\n",
              "      <td>Pegawai swasta</td>\n",
              "      <td>Jakarta</td>\n",
              "      <td>6.622666e+06</td>\n",
              "      <td>0</td>\n",
              "      <td>1.0</td>\n",
              "      <td>47.935235</td>\n",
              "      <td>156.517659</td>\n",
              "      <td>Shoulder &amp; Head</td>\n",
              "      <td>0</td>\n",
              "      <td>S3</td>\n",
              "      <td>0.581813</td>\n",
              "    </tr>\n",
              "  </tbody>\n",
              "</table>\n",
              "</div>"
            ],
            "text/plain": [
              "      umur jenis_kelamin       pekerjaan  ... is_merokok  pendidikan  botak_prob\n",
              "3966  26.0     Laki-laki  Pegawai swasta  ...          0          S1    0.265293\n",
              "1729  23.0     Laki-laki             PNS  ...          0         SMA    0.633245\n",
              "1894  42.0     Perempuan             NaN  ...          0          S1    0.152196\n",
              "509   42.0     Laki-laki             PNS  ...          0          S1    0.562444\n",
              "4638  45.0     Laki-laki  Pegawai swasta  ...          1          S1    0.397045\n",
              "3662  20.0     Perempuan  Pegawai swasta  ...          1          S1    0.240579\n",
              "2515  22.0     Laki-laki             PNS  ...          0         SMA    0.350886\n",
              "4168  25.0     Laki-laki  Pegawai swasta  ...          0         SMA    0.187921\n",
              "435   46.0     Perempuan  Pegawai swasta  ...          0         SMP    0.286574\n",
              "4490  44.0     Perempuan  Pegawai swasta  ...          0          S3    0.581813\n",
              "\n",
              "[10 rows x 13 columns]"
            ]
          },
          "metadata": {},
          "execution_count": 19
        }
      ]
    },
    {
      "cell_type": "markdown",
      "metadata": {
        "id": "Y1r-Zeo4Wcnd"
      },
      "source": [
        "Beberapa pengamatan:\n",
        "* Target kita, `botak_prob` benar bertipe float dengan *range* 0-1, dimana 1 melambangkan kemungkinan 100%"
      ]
    },
    {
      "cell_type": "markdown",
      "metadata": {
        "ExecuteTime": {
          "end_time": "2020-08-25T01:13:50.998861Z",
          "start_time": "2020-08-25T01:13:50.995862Z"
        },
        "id": "RigrAOnGWcnd"
      },
      "source": [
        "### Statistical summary dengan `df.describe()`\n",
        "Selanjutnya kita munculkan ringkasan statistik dataframe, baik untuk numerical dan categorical. Hal ini dilakukan untuk mengecek secara singkat akan keberadaan outlier dan karakteristik distribusi untuk `feature` numeric."
      ]
    },
    {
      "cell_type": "code",
      "metadata": {
        "ExecuteTime": {
          "end_time": "2020-08-29T04:37:08.229068Z",
          "start_time": "2020-08-29T04:37:08.149086Z"
        },
        "colab": {
          "base_uri": "https://localhost:8080/",
          "height": 300
        },
        "id": "BzK64ajKWcnd",
        "outputId": "1102b688-4206-4f19-a35a-2657e13787e7"
      },
      "source": [
        "df[nums].describe()"
      ],
      "execution_count": null,
      "outputs": [
        {
          "output_type": "execute_result",
          "data": {
            "text/html": [
              "<div>\n",
              "<style scoped>\n",
              "    .dataframe tbody tr th:only-of-type {\n",
              "        vertical-align: middle;\n",
              "    }\n",
              "\n",
              "    .dataframe tbody tr th {\n",
              "        vertical-align: top;\n",
              "    }\n",
              "\n",
              "    .dataframe thead th {\n",
              "        text-align: right;\n",
              "    }\n",
              "</style>\n",
              "<table border=\"1\" class=\"dataframe\">\n",
              "  <thead>\n",
              "    <tr style=\"text-align: right;\">\n",
              "      <th></th>\n",
              "      <th>umur</th>\n",
              "      <th>gaji</th>\n",
              "      <th>is_menikah</th>\n",
              "      <th>is_keturunan</th>\n",
              "      <th>berat</th>\n",
              "      <th>tinggi</th>\n",
              "      <th>is_merokok</th>\n",
              "      <th>botak_prob</th>\n",
              "    </tr>\n",
              "  </thead>\n",
              "  <tbody>\n",
              "    <tr>\n",
              "      <th>count</th>\n",
              "      <td>1000.000000</td>\n",
              "      <td>1.000000e+03</td>\n",
              "      <td>1000.000000</td>\n",
              "      <td>997.000000</td>\n",
              "      <td>1000.000000</td>\n",
              "      <td>1000.000000</td>\n",
              "      <td>1000.000000</td>\n",
              "      <td>1000.000000</td>\n",
              "    </tr>\n",
              "    <tr>\n",
              "      <th>mean</th>\n",
              "      <td>39.517000</td>\n",
              "      <td>9.338530e+06</td>\n",
              "      <td>0.035000</td>\n",
              "      <td>0.179539</td>\n",
              "      <td>55.960354</td>\n",
              "      <td>157.308522</td>\n",
              "      <td>0.485000</td>\n",
              "      <td>0.384868</td>\n",
              "    </tr>\n",
              "    <tr>\n",
              "      <th>std</th>\n",
              "      <td>10.031667</td>\n",
              "      <td>4.816192e+06</td>\n",
              "      <td>0.183872</td>\n",
              "      <td>0.383995</td>\n",
              "      <td>9.441493</td>\n",
              "      <td>6.550181</td>\n",
              "      <td>0.500025</td>\n",
              "      <td>0.193882</td>\n",
              "    </tr>\n",
              "    <tr>\n",
              "      <th>min</th>\n",
              "      <td>4.000000</td>\n",
              "      <td>1.990399e+06</td>\n",
              "      <td>0.000000</td>\n",
              "      <td>0.000000</td>\n",
              "      <td>41.754150</td>\n",
              "      <td>138.487317</td>\n",
              "      <td>0.000000</td>\n",
              "      <td>-0.115700</td>\n",
              "    </tr>\n",
              "    <tr>\n",
              "      <th>25%</th>\n",
              "      <td>33.000000</td>\n",
              "      <td>5.985189e+06</td>\n",
              "      <td>0.000000</td>\n",
              "      <td>0.000000</td>\n",
              "      <td>49.723461</td>\n",
              "      <td>152.782408</td>\n",
              "      <td>0.000000</td>\n",
              "      <td>0.241132</td>\n",
              "    </tr>\n",
              "    <tr>\n",
              "      <th>50%</th>\n",
              "      <td>39.000000</td>\n",
              "      <td>8.082501e+06</td>\n",
              "      <td>0.000000</td>\n",
              "      <td>0.000000</td>\n",
              "      <td>53.780701</td>\n",
              "      <td>156.979853</td>\n",
              "      <td>0.000000</td>\n",
              "      <td>0.365464</td>\n",
              "    </tr>\n",
              "    <tr>\n",
              "      <th>75%</th>\n",
              "      <td>46.000000</td>\n",
              "      <td>1.162239e+07</td>\n",
              "      <td>0.000000</td>\n",
              "      <td>0.000000</td>\n",
              "      <td>59.645683</td>\n",
              "      <td>161.242447</td>\n",
              "      <td>1.000000</td>\n",
              "      <td>0.508360</td>\n",
              "    </tr>\n",
              "    <tr>\n",
              "      <th>max</th>\n",
              "      <td>72.000000</td>\n",
              "      <td>3.713150e+07</td>\n",
              "      <td>1.000000</td>\n",
              "      <td>1.000000</td>\n",
              "      <td>128.643924</td>\n",
              "      <td>193.484937</td>\n",
              "      <td>1.000000</td>\n",
              "      <td>1.000000</td>\n",
              "    </tr>\n",
              "  </tbody>\n",
              "</table>\n",
              "</div>"
            ],
            "text/plain": [
              "              umur          gaji  ...   is_merokok   botak_prob\n",
              "count  1000.000000  1.000000e+03  ...  1000.000000  1000.000000\n",
              "mean     39.517000  9.338530e+06  ...     0.485000     0.384868\n",
              "std      10.031667  4.816192e+06  ...     0.500025     0.193882\n",
              "min       4.000000  1.990399e+06  ...     0.000000    -0.115700\n",
              "25%      33.000000  5.985189e+06  ...     0.000000     0.241132\n",
              "50%      39.000000  8.082501e+06  ...     0.000000     0.365464\n",
              "75%      46.000000  1.162239e+07  ...     1.000000     0.508360\n",
              "max      72.000000  3.713150e+07  ...     1.000000     1.000000\n",
              "\n",
              "[8 rows x 8 columns]"
            ]
          },
          "metadata": {},
          "execution_count": 20
        }
      ]
    },
    {
      "cell_type": "markdown",
      "metadata": {
        "id": "4SceQdfMWcnd"
      },
      "source": [
        "Beberapa pengamatan dari *statistical summary* kolom numerik di atas:\n",
        "* Distribusi nilai di kolom `umur` dan `gaji` terlihat normal (*mean* dan *median* cukup dekat, dan nilai Q2 kira2 tepat di tengah2 Q1 - Q3)\n",
        "* Ada baris yang memiliki probability `botak_prob` minus. Baris ini harus dihilangkan di tahap pre-processing nanti"
      ]
    },
    {
      "cell_type": "code",
      "metadata": {
        "colab": {
          "base_uri": "https://localhost:8080/"
        },
        "id": "IgfogYgjZSCa",
        "outputId": "e61712b1-85ce-4c5d-fbdf-d21b6710653c"
      },
      "source": [
        "df[df['botak_prob']<0].shape"
      ],
      "execution_count": null,
      "outputs": [
        {
          "output_type": "execute_result",
          "data": {
            "text/plain": [
              "(7, 13)"
            ]
          },
          "metadata": {},
          "execution_count": 27
        }
      ]
    },
    {
      "cell_type": "code",
      "metadata": {
        "ExecuteTime": {
          "end_time": "2020-08-29T00:32:07.456785Z",
          "start_time": "2020-08-29T00:32:07.423804Z"
        },
        "scrolled": false,
        "colab": {
          "base_uri": "https://localhost:8080/",
          "height": 175
        },
        "id": "01tAVWj5Wcnd",
        "outputId": "d33a9cfc-e5cd-44d0-c5d3-e1e19ab9d430"
      },
      "source": [
        "df[cats].describe()"
      ],
      "execution_count": null,
      "outputs": [
        {
          "output_type": "execute_result",
          "data": {
            "text/html": [
              "<div>\n",
              "<style scoped>\n",
              "    .dataframe tbody tr th:only-of-type {\n",
              "        vertical-align: middle;\n",
              "    }\n",
              "\n",
              "    .dataframe tbody tr th {\n",
              "        vertical-align: top;\n",
              "    }\n",
              "\n",
              "    .dataframe thead th {\n",
              "        text-align: right;\n",
              "    }\n",
              "</style>\n",
              "<table border=\"1\" class=\"dataframe\">\n",
              "  <thead>\n",
              "    <tr style=\"text-align: right;\">\n",
              "      <th></th>\n",
              "      <th>jenis_kelamin</th>\n",
              "      <th>pekerjaan</th>\n",
              "      <th>sampo</th>\n",
              "      <th>pendidikan</th>\n",
              "      <th>provinsi</th>\n",
              "    </tr>\n",
              "  </thead>\n",
              "  <tbody>\n",
              "    <tr>\n",
              "      <th>count</th>\n",
              "      <td>1000</td>\n",
              "      <td>986</td>\n",
              "      <td>1000</td>\n",
              "      <td>1000</td>\n",
              "      <td>1000</td>\n",
              "    </tr>\n",
              "    <tr>\n",
              "      <th>unique</th>\n",
              "      <td>2</td>\n",
              "      <td>4</td>\n",
              "      <td>5</td>\n",
              "      <td>6</td>\n",
              "      <td>34</td>\n",
              "    </tr>\n",
              "    <tr>\n",
              "      <th>top</th>\n",
              "      <td>Laki-laki</td>\n",
              "      <td>Pegawai swasta</td>\n",
              "      <td>Merpati</td>\n",
              "      <td>S1</td>\n",
              "      <td>Mataram</td>\n",
              "    </tr>\n",
              "    <tr>\n",
              "      <th>freq</th>\n",
              "      <td>654</td>\n",
              "      <td>403</td>\n",
              "      <td>225</td>\n",
              "      <td>565</td>\n",
              "      <td>44</td>\n",
              "    </tr>\n",
              "  </tbody>\n",
              "</table>\n",
              "</div>"
            ],
            "text/plain": [
              "       jenis_kelamin       pekerjaan    sampo pendidikan provinsi\n",
              "count           1000             986     1000       1000     1000\n",
              "unique             2               4        5          6       34\n",
              "top        Laki-laki  Pegawai swasta  Merpati         S1  Mataram\n",
              "freq             654             403      225        565       44"
            ]
          },
          "metadata": {},
          "execution_count": 21
        }
      ]
    },
    {
      "cell_type": "markdown",
      "metadata": {
        "id": "F4bMXuioWcnd"
      },
      "source": [
        "Beberapa pengamatan dari *statistical summary* kolom kategorikal di atas:\n",
        "* Mayoritas data adalah Laki-laki (Top kolom `jenis_kelamin` adalah `Laki-laki` dengan frekuensi 655)\n",
        "* Kolom `provinsi` memiliki jumlah nilai unik yang banyak;ada kemungkinan tidak terlalu berguna untuk klasifikasi\n",
        "* Sebaran nilai di kolom `jenis_kelamin`, `provinsi` dan `sampo` terlihat merata, sedangkan `pekerjaan` dan `pendidikan` terlihat didominasi nilai tertentu"
      ]
    },
    {
      "cell_type": "markdown",
      "metadata": {
        "id": "3859NJJfWcnd"
      },
      "source": [
        "### Value Counting\n",
        "Kita dapat memastikan pengamatan mengenai kolom-kolom *categorical* di atas dengan value counting"
      ]
    },
    {
      "cell_type": "code",
      "metadata": {
        "ExecuteTime": {
          "end_time": "2020-08-29T04:41:10.203681Z",
          "start_time": "2020-08-29T04:41:10.180698Z"
        },
        "colab": {
          "base_uri": "https://localhost:8080/"
        },
        "id": "hHAQVv_kWcnd",
        "outputId": "de13f5df-c5ab-4601-d029-b01d5c6c9466"
      },
      "source": [
        "for col in cats:\n",
        "    print(f'''Value count kolom {col}:''')\n",
        "    print(df[col].value_counts())\n",
        "    print()"
      ],
      "execution_count": null,
      "outputs": [
        {
          "output_type": "stream",
          "name": "stdout",
          "text": [
            "Value count kolom jenis_kelamin:\n",
            "Laki-laki    654\n",
            "Perempuan    346\n",
            "Name: jenis_kelamin, dtype: int64\n",
            "\n",
            "Value count kolom pekerjaan:\n",
            "Pegawai swasta    403\n",
            "PNS               389\n",
            "Freelance         159\n",
            "Pengangguran       35\n",
            "Name: pekerjaan, dtype: int64\n",
            "\n",
            "Value count kolom sampo:\n",
            "Merpati            225\n",
            "Pantone            210\n",
            "Moonsilk           198\n",
            "Deadbuoy           189\n",
            "Shoulder & Head    178\n",
            "Name: sampo, dtype: int64\n",
            "\n",
            "Value count kolom pendidikan:\n",
            "S1     565\n",
            "SMA    248\n",
            "S2      76\n",
            "SMP     71\n",
            "SD      24\n",
            "S3      16\n",
            "Name: pendidikan, dtype: int64\n",
            "\n",
            "Value count kolom provinsi:\n",
            "Mataram           44\n",
            "Semarang          42\n",
            "Manokwari         42\n",
            "Tanjungselor      39\n",
            "Jambi             36\n",
            "Pekanbaru         35\n",
            "Manado            34\n",
            "Medan             34\n",
            "Mamuju            32\n",
            "Ambon             32\n",
            "Palangkaraya      31\n",
            "Gorontalo         30\n",
            "Jakarta           30\n",
            "Banjarmasin       30\n",
            "Sofifi            29\n",
            "Kupang            28\n",
            "Banda Aceh        28\n",
            "Serang            28\n",
            "Padang            28\n",
            "Banda Lampung     28\n",
            "Samarinda         27\n",
            "Kendari           26\n",
            "Palu              26\n",
            "Yogyakarta        26\n",
            "Denpasar          25\n",
            "Bengkulu          25\n",
            "Pangkalpinang     25\n",
            "Jayapura          24\n",
            "Pontianak         24\n",
            "Surabaya          24\n",
            "Bandung           24\n",
            "Palembang         24\n",
            "Makassar          21\n",
            "Tanjung Pinang    19\n",
            "Name: provinsi, dtype: int64\n",
            "\n"
          ]
        }
      ]
    },
    {
      "cell_type": "markdown",
      "metadata": {
        "id": "pEyIqfBrWcnd"
      },
      "source": [
        "Seperti yang bisa dilihat, pengamatan kita dari `df.describe()` tadi terbukti benar."
      ]
    },
    {
      "cell_type": "markdown",
      "metadata": {
        "id": "Juio7NVFWcnd"
      },
      "source": [
        "## Univariate Analysis\n",
        "Setelah melakukan analisis sederhana tentang statistik deskriptif, sekarang kita fokus pada satu-persatu kolom dengan *Univariate Analysis*"
      ]
    },
    {
      "cell_type": "markdown",
      "metadata": {
        "id": "OQA6nvPjWcnd"
      },
      "source": [
        "### Box plots"
      ]
    },
    {
      "cell_type": "code",
      "metadata": {
        "ExecuteTime": {
          "end_time": "2020-08-29T04:42:08.001602Z",
          "start_time": "2020-08-29T04:42:06.531448Z"
        },
        "scrolled": true,
        "colab": {
          "base_uri": "https://localhost:8080/",
          "height": 297
        },
        "id": "AHFiQSI4Wcnd",
        "outputId": "d5d5759f-7a05-4efb-f720-b09c1b5a0704"
      },
      "source": [
        "for i in range(0, len(nums)):\n",
        "    plt.subplot(1, len(nums), i+1)\n",
        "    sns.boxplot(y=df[nums[i]], color='gray', orient='v')\n",
        "    plt.tight_layout()"
      ],
      "execution_count": null,
      "outputs": [
        {
          "output_type": "display_data",
          "data": {
            "image/png": "[encoded data removed]",
            "text/plain": [
              "<Figure size 864x288 with 8 Axes>"
            ]
          },
          "metadata": {
            "needs_background": "light"
          }
        }
      ]
    },
    {
      "cell_type": "markdown",
      "metadata": {
        "id": "eM7NVf00Wcnd"
      },
      "source": [
        "Untuk boxplot, hal paling penting yang harus kita perhatikan adalah keberadaan outlier.\n",
        "* Outlier terlihat utamanya pada kolom `gaji` dan `berat`\n",
        "* Dari boxplotnya terlihat mana distribusi yang terlihat agak *skewed*: `gaji`, `berat`, `tinggi`"
      ]
    },
    {
      "cell_type": "markdown",
      "metadata": {
        "ExecuteTime": {
          "end_time": "2020-08-25T01:31:54.648374Z",
          "start_time": "2020-08-25T01:31:54.645375Z"
        },
        "id": "wIJ4xk-sWcnd"
      },
      "source": [
        "### Dist plots"
      ]
    },
    {
      "cell_type": "code",
      "metadata": {
        "ExecuteTime": {
          "end_time": "2020-08-29T04:46:20.960234Z",
          "start_time": "2020-08-29T04:46:18.699139Z"
        },
        "colab": {
          "base_uri": "https://localhost:8080/",
          "height": 667
        },
        "id": "vTq7jD88Wcnd",
        "outputId": "a1bd9c8f-c9c3-4323-fd68-736e9bb0e31b"
      },
      "source": [
        "plt.figure(figsize=(12, 5))\n",
        "for i in range(0, len(nums)):\n",
        "    plt.subplot(2, len(nums)/2, i+1)\n",
        "    sns.distplot(df[nums[i]], color='gray')\n",
        "    plt.tight_layout()"
      ],
      "execution_count": null,
      "outputs": [
        {
          "output_type": "stream",
          "name": "stderr",
          "text": [
            "/usr/local/lib/python3.7/dist-packages/seaborn/distributions.py:2557: FutureWarning: `distplot` is a deprecated function and will be removed in a future version. Please adapt your code to use either `displot` (a figure-level function with similar flexibility) or `histplot` (an axes-level function for histograms).\n",
            "  warnings.warn(msg, FutureWarning)\n",
            "/usr/local/lib/python3.7/dist-packages/seaborn/distributions.py:2557: FutureWarning: `distplot` is a deprecated function and will be removed in a future version. Please adapt your code to use either `displot` (a figure-level function with similar flexibility) or `histplot` (an axes-level function for histograms).\n",
            "  warnings.warn(msg, FutureWarning)\n",
            "/usr/local/lib/python3.7/dist-packages/seaborn/distributions.py:2557: FutureWarning: `distplot` is a deprecated function and will be removed in a future version. Please adapt your code to use either `displot` (a figure-level function with similar flexibility) or `histplot` (an axes-level function for histograms).\n",
            "  warnings.warn(msg, FutureWarning)\n",
            "/usr/local/lib/python3.7/dist-packages/seaborn/distributions.py:2557: FutureWarning: `distplot` is a deprecated function and will be removed in a future version. Please adapt your code to use either `displot` (a figure-level function with similar flexibility) or `histplot` (an axes-level function for histograms).\n",
            "  warnings.warn(msg, FutureWarning)\n",
            "/usr/local/lib/python3.7/dist-packages/seaborn/distributions.py:2557: FutureWarning: `distplot` is a deprecated function and will be removed in a future version. Please adapt your code to use either `displot` (a figure-level function with similar flexibility) or `histplot` (an axes-level function for histograms).\n",
            "  warnings.warn(msg, FutureWarning)\n",
            "/usr/local/lib/python3.7/dist-packages/seaborn/distributions.py:2557: FutureWarning: `distplot` is a deprecated function and will be removed in a future version. Please adapt your code to use either `displot` (a figure-level function with similar flexibility) or `histplot` (an axes-level function for histograms).\n",
            "  warnings.warn(msg, FutureWarning)\n",
            "/usr/local/lib/python3.7/dist-packages/seaborn/distributions.py:2557: FutureWarning: `distplot` is a deprecated function and will be removed in a future version. Please adapt your code to use either `displot` (a figure-level function with similar flexibility) or `histplot` (an axes-level function for histograms).\n",
            "  warnings.warn(msg, FutureWarning)\n",
            "/usr/local/lib/python3.7/dist-packages/seaborn/distributions.py:2557: FutureWarning: `distplot` is a deprecated function and will be removed in a future version. Please adapt your code to use either `displot` (a figure-level function with similar flexibility) or `histplot` (an axes-level function for histograms).\n",
            "  warnings.warn(msg, FutureWarning)\n"
          ]
        },
        {
          "output_type": "display_data",
          "data": {
            "image/png": "[encoded data removed]",
            "text/plain": [
              "<Figure size 864x360 with 8 Axes>"
            ]
          },
          "metadata": {
            "needs_background": "light"
          }
        }
      ]
    },
    {
      "cell_type": "markdown",
      "metadata": {
        "id": "YNv0HtEZWcnd"
      },
      "source": [
        "Untuk distribution plot, hal utama yang perlu diperhatikan adalah bentuk distribusi:\n",
        "* Seperti dugaan kita ketika melihat boxplot di atas, kolom `gaji`, `berat`, dan `tinggi` sedikit *skewed*\n",
        "* Berarti ada kemungkinan kita perlu melakukan sesuatu pada kolom2 tersebut nantinya\n",
        "* Selain kolom2 itu distribusinya terlihat normal-normal saja"
      ]
    },
    {
      "cell_type": "markdown",
      "metadata": {
        "id": "CyWdEfDKWcnd"
      },
      "source": [
        "### Count plot (categorical)"
      ]
    },
    {
      "cell_type": "code",
      "metadata": {
        "ExecuteTime": {
          "end_time": "2020-08-29T00:32:14.834179Z",
          "start_time": "2020-08-29T00:32:13.916291Z"
        },
        "scrolled": true,
        "colab": {
          "base_uri": "https://localhost:8080/",
          "height": 487
        },
        "id": "SACYYuBKWcnd",
        "outputId": "2011ab1e-30d5-4bcd-9fb1-cc49d21796b8"
      },
      "source": [
        "for i in range(0, len(cats)):\n",
        "    plt.subplot(2, 3, i+1)\n",
        "    sns.countplot(df[cats[i]], color='gray', orient='v')\n",
        "    plt.tight_layout()"
      ],
      "execution_count": null,
      "outputs": [
        {
          "output_type": "stream",
          "name": "stderr",
          "text": [
            "/usr/local/lib/python3.7/dist-packages/seaborn/_decorators.py:43: FutureWarning: Pass the following variable as a keyword arg: x. From version 0.12, the only valid positional argument will be `data`, and passing other arguments without an explicit keyword will result in an error or misinterpretation.\n",
            "  FutureWarning\n",
            "/usr/local/lib/python3.7/dist-packages/seaborn/_decorators.py:43: FutureWarning: Pass the following variable as a keyword arg: x. From version 0.12, the only valid positional argument will be `data`, and passing other arguments without an explicit keyword will result in an error or misinterpretation.\n",
            "  FutureWarning\n",
            "/usr/local/lib/python3.7/dist-packages/seaborn/_decorators.py:43: FutureWarning: Pass the following variable as a keyword arg: x. From version 0.12, the only valid positional argument will be `data`, and passing other arguments without an explicit keyword will result in an error or misinterpretation.\n",
            "  FutureWarning\n",
            "/usr/local/lib/python3.7/dist-packages/seaborn/_decorators.py:43: FutureWarning: Pass the following variable as a keyword arg: x. From version 0.12, the only valid positional argument will be `data`, and passing other arguments without an explicit keyword will result in an error or misinterpretation.\n",
            "  FutureWarning\n",
            "/usr/local/lib/python3.7/dist-packages/seaborn/_decorators.py:43: FutureWarning: Pass the following variable as a keyword arg: x. From version 0.12, the only valid positional argument will be `data`, and passing other arguments without an explicit keyword will result in an error or misinterpretation.\n",
            "  FutureWarning\n"
          ]
        },
        {
          "output_type": "display_data",
          "data": {
            "image/png": "[encoded data removed]",
            "text/plain": [
              "<Figure size 864x288 with 5 Axes>"
            ]
          },
          "metadata": {
            "needs_background": "light"
          }
        }
      ]
    },
    {
      "cell_type": "markdown",
      "metadata": {
        "id": "3iqVbOyFWcnd"
      },
      "source": [
        "Terakhir kita lihat count plot untuk setiap data. Seperti pengamatan kita sebelumnya, distribusi `pendidikan` dan `pekerjaan` didominasi 1-2 value.\n"
      ]
    },
    {
      "cell_type": "markdown",
      "metadata": {
        "id": "na6hG7iJWcne"
      },
      "source": [
        "## Bivariate Analysis"
      ]
    },
    {
      "cell_type": "markdown",
      "metadata": {
        "id": "xR7Sg6NgWcne"
      },
      "source": [
        "Setelah menilik setiap kolom secara individual, sekarang kita akan melihat hubungan antar kolom. Mengetahui hubungan antar kolom dapat membantu kita memilih fitur-fitur yang paling penting dan mengesampingkan *feature* yang redundan."
      ]
    },
    {
      "cell_type": "markdown",
      "metadata": {
        "id": "qa7EPitBWcne"
      },
      "source": [
        "### Correlation heatmap"
      ]
    },
    {
      "cell_type": "code",
      "metadata": {
        "colab": {
          "base_uri": "https://localhost:8080/",
          "height": 300
        },
        "id": "zIpuU5e8ASVT",
        "outputId": "a70527fe-a034-4c90-b12e-3806402d9a79"
      },
      "source": [
        "df.corr()"
      ],
      "execution_count": null,
      "outputs": [
        {
          "output_type": "execute_result",
          "data": {
            "text/html": [
              "<div>\n",
              "<style scoped>\n",
              "    .dataframe tbody tr th:only-of-type {\n",
              "        vertical-align: middle;\n",
              "    }\n",
              "\n",
              "    .dataframe tbody tr th {\n",
              "        vertical-align: top;\n",
              "    }\n",
              "\n",
              "    .dataframe thead th {\n",
              "        text-align: right;\n",
              "    }\n",
              "</style>\n",
              "<table border=\"1\" class=\"dataframe\">\n",
              "  <thead>\n",
              "    <tr style=\"text-align: right;\">\n",
              "      <th></th>\n",
              "      <th>umur</th>\n",
              "      <th>gaji</th>\n",
              "      <th>is_menikah</th>\n",
              "      <th>is_keturunan</th>\n",
              "      <th>berat</th>\n",
              "      <th>tinggi</th>\n",
              "      <th>is_merokok</th>\n",
              "      <th>botak_prob</th>\n",
              "    </tr>\n",
              "  </thead>\n",
              "  <tbody>\n",
              "    <tr>\n",
              "      <th>umur</th>\n",
              "      <td>1.000000</td>\n",
              "      <td>-0.051310</td>\n",
              "      <td>0.436266</td>\n",
              "      <td>0.000896</td>\n",
              "      <td>-0.015623</td>\n",
              "      <td>0.030225</td>\n",
              "      <td>0.024397</td>\n",
              "      <td>0.339214</td>\n",
              "    </tr>\n",
              "    <tr>\n",
              "      <th>gaji</th>\n",
              "      <td>-0.051310</td>\n",
              "      <td>1.000000</td>\n",
              "      <td>-0.030682</td>\n",
              "      <td>0.027093</td>\n",
              "      <td>0.002633</td>\n",
              "      <td>-0.002288</td>\n",
              "      <td>0.034678</td>\n",
              "      <td>0.070522</td>\n",
              "    </tr>\n",
              "    <tr>\n",
              "      <th>is_menikah</th>\n",
              "      <td>0.436266</td>\n",
              "      <td>-0.030682</td>\n",
              "      <td>1.000000</td>\n",
              "      <td>0.038568</td>\n",
              "      <td>0.039649</td>\n",
              "      <td>0.083794</td>\n",
              "      <td>0.011160</td>\n",
              "      <td>0.239355</td>\n",
              "    </tr>\n",
              "    <tr>\n",
              "      <th>is_keturunan</th>\n",
              "      <td>0.000896</td>\n",
              "      <td>0.027093</td>\n",
              "      <td>0.038568</td>\n",
              "      <td>1.000000</td>\n",
              "      <td>0.063689</td>\n",
              "      <td>0.020268</td>\n",
              "      <td>0.025744</td>\n",
              "      <td>0.622825</td>\n",
              "    </tr>\n",
              "    <tr>\n",
              "      <th>berat</th>\n",
              "      <td>-0.015623</td>\n",
              "      <td>0.002633</td>\n",
              "      <td>0.039649</td>\n",
              "      <td>0.063689</td>\n",
              "      <td>1.000000</td>\n",
              "      <td>0.640597</td>\n",
              "      <td>0.056122</td>\n",
              "      <td>0.030708</td>\n",
              "    </tr>\n",
              "    <tr>\n",
              "      <th>tinggi</th>\n",
              "      <td>0.030225</td>\n",
              "      <td>-0.002288</td>\n",
              "      <td>0.083794</td>\n",
              "      <td>0.020268</td>\n",
              "      <td>0.640597</td>\n",
              "      <td>1.000000</td>\n",
              "      <td>0.006473</td>\n",
              "      <td>0.036609</td>\n",
              "    </tr>\n",
              "    <tr>\n",
              "      <th>is_merokok</th>\n",
              "      <td>0.024397</td>\n",
              "      <td>0.034678</td>\n",
              "      <td>0.011160</td>\n",
              "      <td>0.025744</td>\n",
              "      <td>0.056122</td>\n",
              "      <td>0.006473</td>\n",
              "      <td>1.000000</td>\n",
              "      <td>0.306522</td>\n",
              "    </tr>\n",
              "    <tr>\n",
              "      <th>botak_prob</th>\n",
              "      <td>0.339214</td>\n",
              "      <td>0.070522</td>\n",
              "      <td>0.239355</td>\n",
              "      <td>0.622825</td>\n",
              "      <td>0.030708</td>\n",
              "      <td>0.036609</td>\n",
              "      <td>0.306522</td>\n",
              "      <td>1.000000</td>\n",
              "    </tr>\n",
              "  </tbody>\n",
              "</table>\n",
              "</div>"
            ],
            "text/plain": [
              "                  umur      gaji  is_menikah  ...    tinggi  is_merokok  botak_prob\n",
              "umur          1.000000 -0.051310    0.436266  ...  0.030225    0.024397    0.339214\n",
              "gaji         -0.051310  1.000000   -0.030682  ... -0.002288    0.034678    0.070522\n",
              "is_menikah    0.436266 -0.030682    1.000000  ...  0.083794    0.011160    0.239355\n",
              "is_keturunan  0.000896  0.027093    0.038568  ...  0.020268    0.025744    0.622825\n",
              "berat        -0.015623  0.002633    0.039649  ...  0.640597    0.056122    0.030708\n",
              "tinggi        0.030225 -0.002288    0.083794  ...  1.000000    0.006473    0.036609\n",
              "is_merokok    0.024397  0.034678    0.011160  ...  0.006473    1.000000    0.306522\n",
              "botak_prob    0.339214  0.070522    0.239355  ...  0.036609    0.306522    1.000000\n",
              "\n",
              "[8 rows x 8 columns]"
            ]
          },
          "metadata": {},
          "execution_count": 24
        }
      ]
    },
    {
      "cell_type": "code",
      "metadata": {
        "ExecuteTime": {
          "end_time": "2020-08-29T00:32:15.304922Z",
          "start_time": "2020-08-29T00:32:14.836179Z"
        },
        "colab": {
          "base_uri": "https://localhost:8080/",
          "height": 589
        },
        "id": "Q1KXwJlPWcne",
        "outputId": "384c329c-782b-48a7-d651-9d09ad2b4929"
      },
      "source": [
        "plt.figure(figsize=(8, 8))\n",
        "sns.heatmap(df.corr(), cmap='Blues', annot=True, fmt='.2f')"
      ],
      "execution_count": null,
      "outputs": [
        {
          "output_type": "execute_result",
          "data": {
            "text/plain": [
              "<matplotlib.axes._subplots.AxesSubplot at 0x7fc1aa65f290>"
            ]
          },
          "metadata": {},
          "execution_count": 25
        },
        {
          "output_type": "display_data",
          "data": {
            "image/png": "[encoded data removed]",
            "text/plain": [
              "<Figure size 576x576 with 2 Axes>"
            ]
          },
          "metadata": {
            "needs_background": "light"
          }
        }
      ]
    },
    {
      "cell_type": "markdown",
      "metadata": {
        "id": "5IV0XEBRWcne"
      },
      "source": [
        "Dari *correlation heatmap* di atas dapat dilihat bahwa:\n",
        "* Target kita `botak_prob` memiliki korelasi positif lemah dengan `umur`, `is_menikah`, dan `is_merokok`\n",
        "* Ia juga memiliki korelasi positif kuat dengan `is_keturunan`\n",
        "* `tinggi` juga memiliki korelasi positif kuat dengan `berat`. Ada kemungkinan kedua *feature* ini redundan\n",
        "* `is_menikah` memiliki korelasi dengan `umur`, namun korelasi ini lemah"
      ]
    },
    {
      "cell_type": "markdown",
      "metadata": {
        "id": "zGfqMhp0Wcne"
      },
      "source": [
        "## EDA Conclusion\n",
        "Beberapa hal yang kita temukan dari EDA dataset ini adalah:\n",
        "* Data terlihat valid dan tidak ada kecacatan yang major\n",
        "* Namun masih ada data-data yang kosong/hilang, harus diurus ketika preprocessing\n",
        "* Ada beberapa distribusi yang sedikit *skewed*, hal ini harus diingat apabila kita ingin melakukan sesuatu atau menggunakan model yang memerlukan asumsi distribusi normal\n",
        "* Beberapa *feature* memiliki korelasi yang jelas dengan *target*, mereka akan dipakai\n",
        "* Beberapa *feature* terlihat sama sekali tidak berkorelasi, mereka sebaiknya diabaikan\n",
        "* Dari Heatmap: ada feature yang korelasinya tinggi satu sama lain (berat/tinggi) mungkin cuma akan dipakai satu"
      ]
    },
    {
      "cell_type": "code",
      "metadata": {
        "id": "Ni5fw4FJux3z"
      },
      "source": [
        ""
      ],
      "execution_count": null,
      "outputs": []
    }
  ]
}