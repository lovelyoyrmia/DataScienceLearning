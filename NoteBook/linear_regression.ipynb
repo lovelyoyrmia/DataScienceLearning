{
 "cells": [
  {
   "cell_type": "markdown",
   "source": [
    "# DATA SCIENCE (EXPLORATORY DATA ANALYSIS)"
   ],
   "metadata": {}
  },
  {
   "cell_type": "markdown",
   "source": [
    "$\\textbf{Declare Varible data wine}$"
   ],
   "metadata": {}
  },
  {
   "cell_type": "code",
   "execution_count": 2,
   "source": [
    "import pandas as pd\r\n",
    "import numpy as np\r\n",
    "import matplotlib.pyplot as plt\r\n",
    "import seaborn as sea\r\n",
    "from sklearn.datasets import load_wine\r\n",
    "\r\n",
    "wine = load_wine()\r\n",
    "dataWine = pd.DataFrame(data=np.c_[wine['data'],wine['target']],columns= list(wine['feature_names'] + ['']))\r\n",
    "dataWine = dataWine[['alcohol','ash','malic_acid','magnesium','color_intensity','hue','proline','total_phenols']]\r\n",
    "dataWine.head()"
   ],
   "outputs": [
    {
     "output_type": "execute_result",
     "data": {
      "text/html": [
       "<div>\n",
       "<style scoped>\n",
       "    .dataframe tbody tr th:only-of-type {\n",
       "        vertical-align: middle;\n",
       "    }\n",
       "\n",
       "    .dataframe tbody tr th {\n",
       "        vertical-align: top;\n",
       "    }\n",
       "\n",
       "    .dataframe thead th {\n",
       "        text-align: right;\n",
       "    }\n",
       "</style>\n",
       "<table border=\"1\" class=\"dataframe\">\n",
       "  <thead>\n",
       "    <tr style=\"text-align: right;\">\n",
       "      <th></th>\n",
       "      <th>alcohol</th>\n",
       "      <th>ash</th>\n",
       "      <th>malic_acid</th>\n",
       "      <th>magnesium</th>\n",
       "      <th>color_intensity</th>\n",
       "      <th>hue</th>\n",
       "      <th>proline</th>\n",
       "      <th>total_phenols</th>\n",
       "    </tr>\n",
       "  </thead>\n",
       "  <tbody>\n",
       "    <tr>\n",
       "      <th>0</th>\n",
       "      <td>14.23</td>\n",
       "      <td>2.43</td>\n",
       "      <td>1.71</td>\n",
       "      <td>127.0</td>\n",
       "      <td>5.64</td>\n",
       "      <td>1.04</td>\n",
       "      <td>1065.0</td>\n",
       "      <td>2.80</td>\n",
       "    </tr>\n",
       "    <tr>\n",
       "      <th>1</th>\n",
       "      <td>13.20</td>\n",
       "      <td>2.14</td>\n",
       "      <td>1.78</td>\n",
       "      <td>100.0</td>\n",
       "      <td>4.38</td>\n",
       "      <td>1.05</td>\n",
       "      <td>1050.0</td>\n",
       "      <td>2.65</td>\n",
       "    </tr>\n",
       "    <tr>\n",
       "      <th>2</th>\n",
       "      <td>13.16</td>\n",
       "      <td>2.67</td>\n",
       "      <td>2.36</td>\n",
       "      <td>101.0</td>\n",
       "      <td>5.68</td>\n",
       "      <td>1.03</td>\n",
       "      <td>1185.0</td>\n",
       "      <td>2.80</td>\n",
       "    </tr>\n",
       "    <tr>\n",
       "      <th>3</th>\n",
       "      <td>14.37</td>\n",
       "      <td>2.50</td>\n",
       "      <td>1.95</td>\n",
       "      <td>113.0</td>\n",
       "      <td>7.80</td>\n",
       "      <td>0.86</td>\n",
       "      <td>1480.0</td>\n",
       "      <td>3.85</td>\n",
       "    </tr>\n",
       "    <tr>\n",
       "      <th>4</th>\n",
       "      <td>13.24</td>\n",
       "      <td>2.87</td>\n",
       "      <td>2.59</td>\n",
       "      <td>118.0</td>\n",
       "      <td>4.32</td>\n",
       "      <td>1.04</td>\n",
       "      <td>735.0</td>\n",
       "      <td>2.80</td>\n",
       "    </tr>\n",
       "  </tbody>\n",
       "</table>\n",
       "</div>"
      ],
      "text/plain": [
       "   alcohol   ash  malic_acid  magnesium  color_intensity   hue  proline  \\\n",
       "0    14.23  2.43        1.71      127.0             5.64  1.04   1065.0   \n",
       "1    13.20  2.14        1.78      100.0             4.38  1.05   1050.0   \n",
       "2    13.16  2.67        2.36      101.0             5.68  1.03   1185.0   \n",
       "3    14.37  2.50        1.95      113.0             7.80  0.86   1480.0   \n",
       "4    13.24  2.87        2.59      118.0             4.32  1.04    735.0   \n",
       "\n",
       "   total_phenols  \n",
       "0           2.80  \n",
       "1           2.65  \n",
       "2           2.80  \n",
       "3           3.85  \n",
       "4           2.80  "
      ]
     },
     "metadata": {},
     "execution_count": 2
    }
   ],
   "metadata": {}
  },
  {
   "cell_type": "markdown",
   "source": [
    "$\\textbf{TO SEE THE STATISTIC OF DATA WINE}$"
   ],
   "metadata": {}
  },
  {
   "cell_type": "code",
   "execution_count": 3,
   "source": [
    "dataWine.describe()"
   ],
   "outputs": [
    {
     "output_type": "execute_result",
     "data": {
      "text/html": [
       "<div>\n",
       "<style scoped>\n",
       "    .dataframe tbody tr th:only-of-type {\n",
       "        vertical-align: middle;\n",
       "    }\n",
       "\n",
       "    .dataframe tbody tr th {\n",
       "        vertical-align: top;\n",
       "    }\n",
       "\n",
       "    .dataframe thead th {\n",
       "        text-align: right;\n",
       "    }\n",
       "</style>\n",
       "<table border=\"1\" class=\"dataframe\">\n",
       "  <thead>\n",
       "    <tr style=\"text-align: right;\">\n",
       "      <th></th>\n",
       "      <th>alcohol</th>\n",
       "      <th>ash</th>\n",
       "      <th>malic_acid</th>\n",
       "      <th>magnesium</th>\n",
       "      <th>color_intensity</th>\n",
       "      <th>hue</th>\n",
       "      <th>proline</th>\n",
       "      <th>total_phenols</th>\n",
       "    </tr>\n",
       "  </thead>\n",
       "  <tbody>\n",
       "    <tr>\n",
       "      <th>count</th>\n",
       "      <td>178.000000</td>\n",
       "      <td>178.000000</td>\n",
       "      <td>178.000000</td>\n",
       "      <td>178.000000</td>\n",
       "      <td>178.000000</td>\n",
       "      <td>178.000000</td>\n",
       "      <td>178.000000</td>\n",
       "      <td>178.000000</td>\n",
       "    </tr>\n",
       "    <tr>\n",
       "      <th>mean</th>\n",
       "      <td>13.000618</td>\n",
       "      <td>2.366517</td>\n",
       "      <td>2.336348</td>\n",
       "      <td>99.741573</td>\n",
       "      <td>5.058090</td>\n",
       "      <td>0.957449</td>\n",
       "      <td>746.893258</td>\n",
       "      <td>2.295112</td>\n",
       "    </tr>\n",
       "    <tr>\n",
       "      <th>std</th>\n",
       "      <td>0.811827</td>\n",
       "      <td>0.274344</td>\n",
       "      <td>1.117146</td>\n",
       "      <td>14.282484</td>\n",
       "      <td>2.318286</td>\n",
       "      <td>0.228572</td>\n",
       "      <td>314.907474</td>\n",
       "      <td>0.625851</td>\n",
       "    </tr>\n",
       "    <tr>\n",
       "      <th>min</th>\n",
       "      <td>11.030000</td>\n",
       "      <td>1.360000</td>\n",
       "      <td>0.740000</td>\n",
       "      <td>70.000000</td>\n",
       "      <td>1.280000</td>\n",
       "      <td>0.480000</td>\n",
       "      <td>278.000000</td>\n",
       "      <td>0.980000</td>\n",
       "    </tr>\n",
       "    <tr>\n",
       "      <th>25%</th>\n",
       "      <td>12.362500</td>\n",
       "      <td>2.210000</td>\n",
       "      <td>1.602500</td>\n",
       "      <td>88.000000</td>\n",
       "      <td>3.220000</td>\n",
       "      <td>0.782500</td>\n",
       "      <td>500.500000</td>\n",
       "      <td>1.742500</td>\n",
       "    </tr>\n",
       "    <tr>\n",
       "      <th>50%</th>\n",
       "      <td>13.050000</td>\n",
       "      <td>2.360000</td>\n",
       "      <td>1.865000</td>\n",
       "      <td>98.000000</td>\n",
       "      <td>4.690000</td>\n",
       "      <td>0.965000</td>\n",
       "      <td>673.500000</td>\n",
       "      <td>2.355000</td>\n",
       "    </tr>\n",
       "    <tr>\n",
       "      <th>75%</th>\n",
       "      <td>13.677500</td>\n",
       "      <td>2.557500</td>\n",
       "      <td>3.082500</td>\n",
       "      <td>107.000000</td>\n",
       "      <td>6.200000</td>\n",
       "      <td>1.120000</td>\n",
       "      <td>985.000000</td>\n",
       "      <td>2.800000</td>\n",
       "    </tr>\n",
       "    <tr>\n",
       "      <th>max</th>\n",
       "      <td>14.830000</td>\n",
       "      <td>3.230000</td>\n",
       "      <td>5.800000</td>\n",
       "      <td>162.000000</td>\n",
       "      <td>13.000000</td>\n",
       "      <td>1.710000</td>\n",
       "      <td>1680.000000</td>\n",
       "      <td>3.880000</td>\n",
       "    </tr>\n",
       "  </tbody>\n",
       "</table>\n",
       "</div>"
      ],
      "text/plain": [
       "          alcohol         ash  malic_acid   magnesium  color_intensity  \\\n",
       "count  178.000000  178.000000  178.000000  178.000000       178.000000   \n",
       "mean    13.000618    2.366517    2.336348   99.741573         5.058090   \n",
       "std      0.811827    0.274344    1.117146   14.282484         2.318286   \n",
       "min     11.030000    1.360000    0.740000   70.000000         1.280000   \n",
       "25%     12.362500    2.210000    1.602500   88.000000         3.220000   \n",
       "50%     13.050000    2.360000    1.865000   98.000000         4.690000   \n",
       "75%     13.677500    2.557500    3.082500  107.000000         6.200000   \n",
       "max     14.830000    3.230000    5.800000  162.000000        13.000000   \n",
       "\n",
       "              hue      proline  total_phenols  \n",
       "count  178.000000   178.000000     178.000000  \n",
       "mean     0.957449   746.893258       2.295112  \n",
       "std      0.228572   314.907474       0.625851  \n",
       "min      0.480000   278.000000       0.980000  \n",
       "25%      0.782500   500.500000       1.742500  \n",
       "50%      0.965000   673.500000       2.355000  \n",
       "75%      1.120000   985.000000       2.800000  \n",
       "max      1.710000  1680.000000       3.880000  "
      ]
     },
     "metadata": {},
     "execution_count": 3
    }
   ],
   "metadata": {}
  },
  {
   "cell_type": "code",
   "execution_count": 66,
   "source": [
    "dataWine.shape"
   ],
   "outputs": [
    {
     "output_type": "execute_result",
     "data": {
      "text/plain": [
       "(178, 8)"
      ]
     },
     "metadata": {},
     "execution_count": 66
    }
   ],
   "metadata": {}
  },
  {
   "cell_type": "code",
   "execution_count": 65,
   "source": [
    "dataWine.info()"
   ],
   "outputs": [
    {
     "output_type": "stream",
     "name": "stdout",
     "text": [
      "<class 'pandas.core.frame.DataFrame'>\n",
      "RangeIndex: 178 entries, 0 to 177\n",
      "Data columns (total 8 columns):\n",
      " #   Column           Non-Null Count  Dtype  \n",
      "---  ------           --------------  -----  \n",
      " 0   alcohol          178 non-null    float64\n",
      " 1   ash              178 non-null    float64\n",
      " 2   malic_acid       178 non-null    float64\n",
      " 3   magnesium        178 non-null    float64\n",
      " 4   color_intensity  178 non-null    float64\n",
      " 5   hue              178 non-null    float64\n",
      " 6   proline          178 non-null    float64\n",
      " 7   total_phenols    178 non-null    float64\n",
      "dtypes: float64(8)\n",
      "memory usage: 11.2 KB\n"
     ]
    }
   ],
   "metadata": {}
  },
  {
   "cell_type": "markdown",
   "source": [
    "$\\textbf{TO GET THE CORRELATION OF DATA WINE}$"
   ],
   "metadata": {}
  },
  {
   "cell_type": "code",
   "execution_count": 56,
   "source": [
    "dataWine.corr()"
   ],
   "outputs": [
    {
     "output_type": "execute_result",
     "data": {
      "text/html": [
       "<div>\n",
       "<style scoped>\n",
       "    .dataframe tbody tr th:only-of-type {\n",
       "        vertical-align: middle;\n",
       "    }\n",
       "\n",
       "    .dataframe tbody tr th {\n",
       "        vertical-align: top;\n",
       "    }\n",
       "\n",
       "    .dataframe thead th {\n",
       "        text-align: right;\n",
       "    }\n",
       "</style>\n",
       "<table border=\"1\" class=\"dataframe\">\n",
       "  <thead>\n",
       "    <tr style=\"text-align: right;\">\n",
       "      <th></th>\n",
       "      <th>alcohol</th>\n",
       "      <th>ash</th>\n",
       "      <th>malic_acid</th>\n",
       "      <th>magnesium</th>\n",
       "      <th>color_intensity</th>\n",
       "      <th>hue</th>\n",
       "      <th>total_phenols</th>\n",
       "    </tr>\n",
       "  </thead>\n",
       "  <tbody>\n",
       "    <tr>\n",
       "      <th>alcohol</th>\n",
       "      <td>1.000000</td>\n",
       "      <td>0.211545</td>\n",
       "      <td>0.094397</td>\n",
       "      <td>0.270798</td>\n",
       "      <td>0.546364</td>\n",
       "      <td>-0.071747</td>\n",
       "      <td>0.289101</td>\n",
       "    </tr>\n",
       "    <tr>\n",
       "      <th>ash</th>\n",
       "      <td>0.211545</td>\n",
       "      <td>1.000000</td>\n",
       "      <td>0.164045</td>\n",
       "      <td>0.286587</td>\n",
       "      <td>0.258887</td>\n",
       "      <td>-0.074667</td>\n",
       "      <td>0.128980</td>\n",
       "    </tr>\n",
       "    <tr>\n",
       "      <th>malic_acid</th>\n",
       "      <td>0.094397</td>\n",
       "      <td>0.164045</td>\n",
       "      <td>1.000000</td>\n",
       "      <td>-0.054575</td>\n",
       "      <td>0.248985</td>\n",
       "      <td>-0.561296</td>\n",
       "      <td>-0.335167</td>\n",
       "    </tr>\n",
       "    <tr>\n",
       "      <th>magnesium</th>\n",
       "      <td>0.270798</td>\n",
       "      <td>0.286587</td>\n",
       "      <td>-0.054575</td>\n",
       "      <td>1.000000</td>\n",
       "      <td>0.199950</td>\n",
       "      <td>0.055398</td>\n",
       "      <td>0.214401</td>\n",
       "    </tr>\n",
       "    <tr>\n",
       "      <th>color_intensity</th>\n",
       "      <td>0.546364</td>\n",
       "      <td>0.258887</td>\n",
       "      <td>0.248985</td>\n",
       "      <td>0.199950</td>\n",
       "      <td>1.000000</td>\n",
       "      <td>-0.521813</td>\n",
       "      <td>-0.055136</td>\n",
       "    </tr>\n",
       "    <tr>\n",
       "      <th>hue</th>\n",
       "      <td>-0.071747</td>\n",
       "      <td>-0.074667</td>\n",
       "      <td>-0.561296</td>\n",
       "      <td>0.055398</td>\n",
       "      <td>-0.521813</td>\n",
       "      <td>1.000000</td>\n",
       "      <td>0.433681</td>\n",
       "    </tr>\n",
       "    <tr>\n",
       "      <th>total_phenols</th>\n",
       "      <td>0.289101</td>\n",
       "      <td>0.128980</td>\n",
       "      <td>-0.335167</td>\n",
       "      <td>0.214401</td>\n",
       "      <td>-0.055136</td>\n",
       "      <td>0.433681</td>\n",
       "      <td>1.000000</td>\n",
       "    </tr>\n",
       "  </tbody>\n",
       "</table>\n",
       "</div>"
      ],
      "text/plain": [
       "                  alcohol       ash  malic_acid  magnesium  color_intensity  \\\n",
       "alcohol          1.000000  0.211545    0.094397   0.270798         0.546364   \n",
       "ash              0.211545  1.000000    0.164045   0.286587         0.258887   \n",
       "malic_acid       0.094397  0.164045    1.000000  -0.054575         0.248985   \n",
       "magnesium        0.270798  0.286587   -0.054575   1.000000         0.199950   \n",
       "color_intensity  0.546364  0.258887    0.248985   0.199950         1.000000   \n",
       "hue             -0.071747 -0.074667   -0.561296   0.055398        -0.521813   \n",
       "total_phenols    0.289101  0.128980   -0.335167   0.214401        -0.055136   \n",
       "\n",
       "                      hue  total_phenols  \n",
       "alcohol         -0.071747       0.289101  \n",
       "ash             -0.074667       0.128980  \n",
       "malic_acid      -0.561296      -0.335167  \n",
       "magnesium        0.055398       0.214401  \n",
       "color_intensity -0.521813      -0.055136  \n",
       "hue              1.000000       0.433681  \n",
       "total_phenols    0.433681       1.000000  "
      ]
     },
     "metadata": {},
     "execution_count": 56
    }
   ],
   "metadata": {}
  },
  {
   "cell_type": "markdown",
   "source": [
    "$\\textbf{TO CHECK THE ENTIRE DATA WITH TABLE}$"
   ],
   "metadata": {}
  },
  {
   "cell_type": "code",
   "execution_count": 60,
   "source": [
    "dataWine.pivot_table(['alcohol'],['color_intensity']).sort_values(by=['alcohol'],ascending=False)"
   ],
   "outputs": [
    {
     "output_type": "execute_result",
     "data": {
      "text/html": [
       "<div>\n",
       "<style scoped>\n",
       "    .dataframe tbody tr th:only-of-type {\n",
       "        vertical-align: middle;\n",
       "    }\n",
       "\n",
       "    .dataframe tbody tr th {\n",
       "        vertical-align: top;\n",
       "    }\n",
       "\n",
       "    .dataframe thead th {\n",
       "        text-align: right;\n",
       "    }\n",
       "</style>\n",
       "<table border=\"1\" class=\"dataframe\">\n",
       "  <thead>\n",
       "    <tr style=\"text-align: right;\">\n",
       "      <th></th>\n",
       "      <th>alcohol</th>\n",
       "    </tr>\n",
       "    <tr>\n",
       "      <th>color_intensity</th>\n",
       "      <th></th>\n",
       "    </tr>\n",
       "  </thead>\n",
       "  <tbody>\n",
       "    <tr>\n",
       "      <th>5.20</th>\n",
       "      <td>14.830</td>\n",
       "    </tr>\n",
       "    <tr>\n",
       "      <th>5.25</th>\n",
       "      <td>14.390</td>\n",
       "    </tr>\n",
       "    <tr>\n",
       "      <th>7.80</th>\n",
       "      <td>14.370</td>\n",
       "    </tr>\n",
       "    <tr>\n",
       "      <th>13.00</th>\n",
       "      <td>14.340</td>\n",
       "    </tr>\n",
       "    <tr>\n",
       "      <th>5.64</th>\n",
       "      <td>14.230</td>\n",
       "    </tr>\n",
       "    <tr>\n",
       "      <th>...</th>\n",
       "      <td>...</td>\n",
       "    </tr>\n",
       "    <tr>\n",
       "      <th>3.00</th>\n",
       "      <td>11.790</td>\n",
       "    </tr>\n",
       "    <tr>\n",
       "      <th>2.65</th>\n",
       "      <td>11.725</td>\n",
       "    </tr>\n",
       "    <tr>\n",
       "      <th>3.25</th>\n",
       "      <td>11.535</td>\n",
       "    </tr>\n",
       "    <tr>\n",
       "      <th>3.08</th>\n",
       "      <td>11.410</td>\n",
       "    </tr>\n",
       "    <tr>\n",
       "      <th>1.90</th>\n",
       "      <td>11.030</td>\n",
       "    </tr>\n",
       "  </tbody>\n",
       "</table>\n",
       "<p>132 rows × 1 columns</p>\n",
       "</div>"
      ],
      "text/plain": [
       "                 alcohol\n",
       "color_intensity         \n",
       "5.20              14.830\n",
       "5.25              14.390\n",
       "7.80              14.370\n",
       "13.00             14.340\n",
       "5.64              14.230\n",
       "...                  ...\n",
       "3.00              11.790\n",
       "2.65              11.725\n",
       "3.25              11.535\n",
       "3.08              11.410\n",
       "1.90              11.030\n",
       "\n",
       "[132 rows x 1 columns]"
      ]
     },
     "metadata": {},
     "execution_count": 60
    }
   ],
   "metadata": {}
  },
  {
   "cell_type": "code",
   "execution_count": 62,
   "source": [
    "dataWine.pivot_table(['alcohol'],['color_intensity','ash']).sort_values(by=['alcohol'],ascending=False)"
   ],
   "outputs": [
    {
     "output_type": "execute_result",
     "data": {
      "text/html": [
       "<div>\n",
       "<style scoped>\n",
       "    .dataframe tbody tr th:only-of-type {\n",
       "        vertical-align: middle;\n",
       "    }\n",
       "\n",
       "    .dataframe tbody tr th {\n",
       "        vertical-align: top;\n",
       "    }\n",
       "\n",
       "    .dataframe thead th {\n",
       "        text-align: right;\n",
       "    }\n",
       "</style>\n",
       "<table border=\"1\" class=\"dataframe\">\n",
       "  <thead>\n",
       "    <tr style=\"text-align: right;\">\n",
       "      <th></th>\n",
       "      <th></th>\n",
       "      <th>alcohol</th>\n",
       "    </tr>\n",
       "    <tr>\n",
       "      <th>color_intensity</th>\n",
       "      <th>ash</th>\n",
       "      <th></th>\n",
       "    </tr>\n",
       "  </thead>\n",
       "  <tbody>\n",
       "    <tr>\n",
       "      <th>5.20</th>\n",
       "      <th>2.17</th>\n",
       "      <td>14.83</td>\n",
       "    </tr>\n",
       "    <tr>\n",
       "      <th>5.40</th>\n",
       "      <th>2.39</th>\n",
       "      <td>14.75</td>\n",
       "    </tr>\n",
       "    <tr>\n",
       "      <th>5.25</th>\n",
       "      <th>2.45</th>\n",
       "      <td>14.39</td>\n",
       "    </tr>\n",
       "    <tr>\n",
       "      <th>7.50</th>\n",
       "      <th>2.38</th>\n",
       "      <td>14.38</td>\n",
       "    </tr>\n",
       "    <tr>\n",
       "      <th>4.90</th>\n",
       "      <th>2.28</th>\n",
       "      <td>14.38</td>\n",
       "    </tr>\n",
       "    <tr>\n",
       "      <th>...</th>\n",
       "      <th>...</th>\n",
       "      <td>...</td>\n",
       "    </tr>\n",
       "    <tr>\n",
       "      <th>6.00</th>\n",
       "      <th>3.23</th>\n",
       "      <td>11.56</td>\n",
       "    </tr>\n",
       "    <tr>\n",
       "      <th>2.90</th>\n",
       "      <th>1.82</th>\n",
       "      <td>11.46</td>\n",
       "    </tr>\n",
       "    <tr>\n",
       "      <th>3.25</th>\n",
       "      <th>2.42</th>\n",
       "      <td>11.45</td>\n",
       "    </tr>\n",
       "    <tr>\n",
       "      <th>3.08</th>\n",
       "      <th>2.50</th>\n",
       "      <td>11.41</td>\n",
       "    </tr>\n",
       "    <tr>\n",
       "      <th>1.90</th>\n",
       "      <th>2.20</th>\n",
       "      <td>11.03</td>\n",
       "    </tr>\n",
       "  </tbody>\n",
       "</table>\n",
       "<p>176 rows × 1 columns</p>\n",
       "</div>"
      ],
      "text/plain": [
       "                      alcohol\n",
       "color_intensity ash          \n",
       "5.20            2.17    14.83\n",
       "5.40            2.39    14.75\n",
       "5.25            2.45    14.39\n",
       "7.50            2.38    14.38\n",
       "4.90            2.28    14.38\n",
       "...                       ...\n",
       "6.00            3.23    11.56\n",
       "2.90            1.82    11.46\n",
       "3.25            2.42    11.45\n",
       "3.08            2.50    11.41\n",
       "1.90            2.20    11.03\n",
       "\n",
       "[176 rows x 1 columns]"
      ]
     },
     "metadata": {},
     "execution_count": 62
    }
   ],
   "metadata": {}
  },
  {
   "cell_type": "markdown",
   "source": [
    "$\\textbf{TO CHECK IF THERE'S DATA IS NULL}$"
   ],
   "metadata": {}
  },
  {
   "cell_type": "code",
   "execution_count": 67,
   "source": [
    "dataWine.isnull().sum()"
   ],
   "outputs": [
    {
     "output_type": "execute_result",
     "data": {
      "text/plain": [
       "alcohol            0\n",
       "ash                0\n",
       "malic_acid         0\n",
       "magnesium          0\n",
       "color_intensity    0\n",
       "hue                0\n",
       "proline            0\n",
       "total_phenols      0\n",
       "dtype: int64"
      ]
     },
     "metadata": {},
     "execution_count": 67
    }
   ],
   "metadata": {}
  },
  {
   "cell_type": "markdown",
   "source": [
    "$\\textbf{TO VISUALIZATION DATA WINE WITH CORRELATION}$"
   ],
   "metadata": {}
  },
  {
   "cell_type": "code",
   "execution_count": 68,
   "source": [
    "plt.figure(figsize=(15,10))\r\n",
    "sea.heatmap(dataWine.corr(),annot=True)"
   ],
   "outputs": [
    {
     "output_type": "execute_result",
     "data": {
      "text/plain": [
       "<AxesSubplot:>"
      ]
     },
     "metadata": {},
     "execution_count": 68
    },
    {
     "output_type": "display_data",
     "data": {
      "image/png": "[encoded data removed]",
      "text/plain": [
       "<Figure size 1080x720 with 2 Axes>"
      ]
     },
     "metadata": {
      "needs_background": "light"
     }
    }
   ],
   "metadata": {}
  },
  {
   "cell_type": "code",
   "execution_count": 9,
   "source": [
    "sea.scatterplot(x='color_intensity',y='alcohol',data=dataWine,hue='alcohol')"
   ],
   "outputs": [
    {
     "output_type": "execute_result",
     "data": {
      "text/plain": [
       "<AxesSubplot:xlabel='color_intensity', ylabel='alcohol'>"
      ]
     },
     "metadata": {},
     "execution_count": 9
    },
    {
     "output_type": "display_data",
     "data": {
      "image/png": "[encoded data removed]",
      "text/plain": [
       "<Figure size 432x288 with 1 Axes>"
      ]
     },
     "metadata": {
      "needs_background": "light"
     }
    }
   ],
   "metadata": {}
  },
  {
   "cell_type": "code",
   "execution_count": null,
   "source": [],
   "outputs": [],
   "metadata": {}
  }
 ],
 "metadata": {
  "orig_nbformat": 4,
  "language_info": {
   "name": "python",
   "version": "3.9.7",
   "mimetype": "text/x-python",
   "codemirror_mode": {
    "name": "ipython",
    "version": 3
   },
   "pygments_lexer": "ipython3",
   "nbconvert_exporter": "python",
   "file_extension": ".py"
  },
  "kernelspec": {
   "name": "python3",
   "display_name": "Python 3.9.7 64-bit ('venv': venv)"
  },
  "interpreter": {
   "hash": "c18f54a833af0381f4515ae7060df09b550f8fcbab78c4dbe1dc8e5a37ed9b41"
  }
 },
 "nbformat": 4,
 "nbformat_minor": 2
}